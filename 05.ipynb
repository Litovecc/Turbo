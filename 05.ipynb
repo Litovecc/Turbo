{
  "nbformat": 4,
  "nbformat_minor": 0,
  "metadata": {
    "colab": {
      "provenance": [],
      "toc_visible": true,
      "authorship_tag": "ABX9TyP7GPqOG0TCQOaK9G6leFOr",
      "include_colab_link": true
    },
    "kernelspec": {
      "name": "python3",
      "display_name": "Python 3"
    },
    "language_info": {
      "name": "python"
    }
  },
  "cells": [
    {
      "cell_type": "markdown",
      "metadata": {
        "id": "view-in-github",
        "colab_type": "text"
      },
      "source": [
        "<a href=\"https://colab.research.google.com/github/Litovecc/Turbo/blob/main/05.ipynb\" target=\"_parent\"><img src=\"https://colab.research.google.com/assets/colab-badge.svg\" alt=\"Open In Colab\"/></a>"
      ]
    },
    {
      "cell_type": "markdown",
      "source": [
        "# Import libraries"
      ],
      "metadata": {
        "id": "XkvY2WSI3sEk"
      }
    },
    {
      "cell_type": "code",
      "source": [
        "import torch\n",
        "import torch.nn as nn"
      ],
      "metadata": {
        "id": "TP_swpCIsaCd"
      },
      "execution_count": 1,
      "outputs": []
    },
    {
      "cell_type": "markdown",
      "source": [
        "# Initialization"
      ],
      "metadata": {
        "id": "2f8vy4Gs4BwC"
      }
    },
    {
      "cell_type": "code",
      "source": [
        "# y = 2*x\n",
        "x = torch.tensor([[1], [2], [3], [4]], dtype=torch.float32)\n",
        "y = torch.tensor([[2], [4], [6], [8]], dtype=torch.float32)\n",
        "n_samples, n_features = x.shape\n",
        "print(n_samples, n_features)\n",
        "\n",
        "x_test = torch.tensor([5], dtype=torch.float32)\n",
        "\n",
        "lr = 0.01 #learning rate\n",
        "n = 1000 #number of iteration"
      ],
      "metadata": {
        "colab": {
          "base_uri": "https://localhost:8080/"
        },
        "id": "6PRnqrBU4fpq",
        "outputId": "3b00a26c-fab2-47df-8e22-102e41439627"
      },
      "execution_count": 2,
      "outputs": [
        {
          "output_type": "stream",
          "name": "stdout",
          "text": [
            "4 1\n"
          ]
        }
      ]
    },
    {
      "cell_type": "markdown",
      "source": [
        "# Model prediction"
      ],
      "metadata": {
        "id": "gW2a2x9v4uXS"
      }
    },
    {
      "cell_type": "code",
      "source": [
        "input_size = n_features\n",
        "output_size = 1\n",
        "\n",
        "#model = nn.Linear(input_size,output_size)\n",
        "\n",
        "class LinearRegression(nn.Module):\n",
        "\n",
        "  def __init__(self, input_dim, output_dim):\n",
        "     super(LinearRegression, self).__init__()\n",
        "     #define Layers\n",
        "     self.lin = nn.Linear(input_dim, output_dim)\n",
        "\n",
        "  def forward(self, x):\n",
        "    return self.lin(x)\n",
        "\n",
        "model = LinearRegression(input_size,output_size)"
      ],
      "metadata": {
        "id": "6HvO7hTQ4zb6"
      },
      "execution_count": 3,
      "outputs": []
    },
    {
      "cell_type": "markdown",
      "source": [
        "# Loss"
      ],
      "metadata": {
        "id": "tORNNBOI48uC"
      }
    },
    {
      "cell_type": "code",
      "source": [
        "loss = nn.MSELoss()"
      ],
      "metadata": {
        "id": "g3ZkmF3g5De7"
      },
      "execution_count": 4,
      "outputs": []
    },
    {
      "cell_type": "markdown",
      "source": [
        "# Training"
      ],
      "metadata": {
        "id": "agSIeBkj5dxG"
      }
    },
    {
      "cell_type": "code",
      "source": [
        "optimizer = torch.optim.SGD(model.parameters(), lr=lr)\n",
        "\n",
        "for epoch in range(n):\n",
        "    #prediction\n",
        "    h = model(x)\n",
        "    #loss\n",
        "    L = loss(y, h)\n",
        "    #gradient\n",
        "    L.backward()\n",
        "    #update\n",
        "    optimizer.step()\n",
        "    #zero_gradients\n",
        "    optimizer.zero_grad()\n",
        "\n",
        "    if epoch % 100 == 0:\n",
        "      [w,b] = model.parameters()\n",
        "      print(f'epoch{epoch + 1}: W = {w[0][0]:3f}, loss={L:5f}')\n",
        "\n",
        "print(f'prediction after training: h(5) = {model(x_test).item():.3f}')"
      ],
      "metadata": {
        "colab": {
          "base_uri": "https://localhost:8080/"
        },
        "id": "30wFCQhk5h7S",
        "outputId": "e2382386-e03a-4df4-8de0-395708514696"
      },
      "execution_count": 5,
      "outputs": [
        {
          "output_type": "stream",
          "name": "stdout",
          "text": [
            "epoch1: W = 0.957905, loss=5.632154\n",
            "epoch101: W = 1.697320, loss=0.133061\n",
            "epoch201: W = 1.775733, loss=0.073049\n",
            "epoch301: W = 1.833832, loss=0.040103\n",
            "epoch401: W = 1.876880, loss=0.022016\n",
            "epoch501: W = 1.908776, loss=0.012087\n",
            "epoch601: W = 1.932409, loss=0.006635\n",
            "epoch701: W = 1.949919, loss=0.003643\n",
            "epoch801: W = 1.962893, loss=0.002000\n",
            "epoch901: W = 1.972506, loss=0.001098\n",
            "prediction after training: h(5) = 9.958\n"
          ]
        }
      ]
    }
  ]
}