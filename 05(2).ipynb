{
  "nbformat": 4,
  "nbformat_minor": 0,
  "metadata": {
    "colab": {
      "provenance": [],
      "toc_visible": true,
      "authorship_tag": "ABX9TyNamLzzWHwRNItg3NECdsVG",
      "include_colab_link": true
    },
    "kernelspec": {
      "name": "python3",
      "display_name": "Python 3"
    },
    "language_info": {
      "name": "python"
    }
  },
  "cells": [
    {
      "cell_type": "markdown",
      "metadata": {
        "id": "view-in-github",
        "colab_type": "text"
      },
      "source": [
        "<a href=\"https://colab.research.google.com/github/Litovecc/Turbo/blob/main/05(2).ipynb\" target=\"_parent\"><img src=\"https://colab.research.google.com/assets/colab-badge.svg\" alt=\"Open In Colab\"/></a>"
      ]
    },
    {
      "cell_type": "markdown",
      "source": [
        "# Import libraries"
      ],
      "metadata": {
        "id": "NrceNPkM6VdU"
      }
    },
    {
      "cell_type": "code",
      "source": [
        "import numpy as np"
      ],
      "metadata": {
        "id": "wDjNvkTL6Zn0"
      },
      "execution_count": 1,
      "outputs": []
    },
    {
      "cell_type": "markdown",
      "source": [
        "# Initialization"
      ],
      "metadata": {
        "id": "N6L-FGwb6c6f"
      }
    },
    {
      "cell_type": "code",
      "source": [
        "x = np.array([1, 2, 3, 4], dtype=np.float32)\n",
        "y = np.array([2, 4, 6, 8], dtype=np.float32)\n",
        "\n",
        "w = 0.0\n",
        "\n",
        "lr = 0.01 #learning rate\n",
        "n = 10 #number of iteration"
      ],
      "metadata": {
        "id": "NKXJu_mT6jkt"
      },
      "execution_count": 2,
      "outputs": []
    },
    {
      "cell_type": "markdown",
      "source": [
        "# Model prediction"
      ],
      "metadata": {
        "id": "KnCsDQ196mhM"
      }
    },
    {
      "cell_type": "code",
      "source": [
        "def forward(w,x):\n",
        " return w*x"
      ],
      "metadata": {
        "id": "wujc_dr16r2c"
      },
      "execution_count": 3,
      "outputs": []
    },
    {
      "cell_type": "markdown",
      "source": [
        "# Loss"
      ],
      "metadata": {
        "id": "QIhKvOP16uJs"
      }
    },
    {
      "cell_type": "code",
      "source": [
        "def loss(y,h):\n",
        "  return((y-h)**2).mean()"
      ],
      "metadata": {
        "id": "Ig3as12T6y6M"
      },
      "execution_count": 4,
      "outputs": []
    },
    {
      "cell_type": "markdown",
      "source": [
        "# Gradient of the loss"
      ],
      "metadata": {
        "id": "UACLhWlN63Ms"
      }
    },
    {
      "cell_type": "code",
      "source": [
        "def gradient(x, h, y):\n",
        "  return np.dot(-2*x, (y - h)).mean()"
      ],
      "metadata": {
        "id": "ZvM4WkPc66gM"
      },
      "execution_count": 5,
      "outputs": []
    },
    {
      "cell_type": "markdown",
      "source": [
        "# Training"
      ],
      "metadata": {
        "id": "O8ym3f-Y6_n0"
      }
    },
    {
      "cell_type": "code",
      "source": [
        "for epoch in range(n):\n",
        "    #prediction\n",
        "    h = forward(w, x)\n",
        "    #loss\n",
        "    L = loss(y, h)\n",
        "    #gradient\n",
        "    dLdw = gradient(x, h, y)\n",
        "    #update\n",
        "    w -=lr*dLdw\n",
        "\n",
        "    if epoch % 1 == 0:\n",
        "      print(f'epoch{epoch + 1}: W = {w:3f}, loss={L:5f}')\n",
        "\n",
        "print(f'prediction after training: h(5) = {forward(w,5):.3f}')"
      ],
      "metadata": {
        "colab": {
          "base_uri": "https://localhost:8080/"
        },
        "id": "8y9FC1rV7Cy0",
        "outputId": "c430bee1-1900-4e4d-f47d-cbfbca367660"
      },
      "execution_count": 6,
      "outputs": [
        {
          "output_type": "stream",
          "name": "stdout",
          "text": [
            "epoch1: W = 1.200000, loss=30.000000\n",
            "epoch2: W = 1.680000, loss=4.799999\n",
            "epoch3: W = 1.872000, loss=0.768000\n",
            "epoch4: W = 1.948800, loss=0.122880\n",
            "epoch5: W = 1.979520, loss=0.019661\n",
            "epoch6: W = 1.991808, loss=0.003146\n",
            "epoch7: W = 1.996723, loss=0.000503\n",
            "epoch8: W = 1.998689, loss=0.000081\n",
            "epoch9: W = 1.999476, loss=0.000013\n",
            "epoch10: W = 1.999790, loss=0.000002\n",
            "prediction after training: h(5) = 9.999\n"
          ]
        }
      ]
    }
  ]
}