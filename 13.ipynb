{
  "nbformat": 4,
  "nbformat_minor": 0,
  "metadata": {
    "colab": {
      "provenance": [],
      "authorship_tag": "ABX9TyMuLae+53Tm46dmCI3nRnt0",
      "include_colab_link": true
    },
    "kernelspec": {
      "name": "python3",
      "display_name": "Python 3"
    },
    "language_info": {
      "name": "python"
    }
  },
  "cells": [
    {
      "cell_type": "markdown",
      "metadata": {
        "id": "view-in-github",
        "colab_type": "text"
      },
      "source": [
        "<a href=\"https://colab.research.google.com/github/Litovecc/Turbo/blob/main/13.ipynb\" target=\"_parent\"><img src=\"https://colab.research.google.com/assets/colab-badge.svg\" alt=\"Open In Colab\"/></a>"
      ]
    },
    {
      "cell_type": "code",
      "execution_count": 1,
      "metadata": {
        "id": "nLEi9TGbF7Eg"
      },
      "outputs": [],
      "source": [
        "import numpy as np\n",
        "import matplotlib.pyplot as plt\n",
        "from sklearn.metrics import mean_squared_error"
      ]
    },
    {
      "cell_type": "code",
      "source": [
        "n = 50\n",
        "X = np.linspace(0, 2*np.pi, n)\n",
        "dx = X[1] - X[0]\n",
        "Y_exact = 0.5*(-np.cos(2*X)+1)\n",
        "Y_num = np.zeros(X.shape[0])"
      ],
      "metadata": {
        "id": "zmYk7tgtF8n3"
      },
      "execution_count": 2,
      "outputs": []
    },
    {
      "cell_type": "code",
      "source": [
        "for i in range(n-1):\n",
        "  Y_num[i+1] = Y_num[i] + dx * np.sin(2 * X[i+1])"
      ],
      "metadata": {
        "id": "NqgYgJVfGBaF"
      },
      "execution_count": 3,
      "outputs": []
    },
    {
      "cell_type": "code",
      "source": [
        "mse = mean_squared_error(Y_exact, Y_num)"
      ],
      "metadata": {
        "id": "4_TJY8ZjGCb-"
      },
      "execution_count": 4,
      "outputs": []
    },
    {
      "cell_type": "code",
      "source": [
        "rsd = mse**0.5/Y_num.mean()*100"
      ],
      "metadata": {
        "id": "F4peZRccGEN1"
      },
      "execution_count": 5,
      "outputs": []
    },
    {
      "cell_type": "code",
      "source": [
        "print('n = {}: rsd = {:.3}%'.format(n, rsd))"
      ],
      "metadata": {
        "colab": {
          "base_uri": "https://localhost:8080/"
        },
        "id": "qs22gxT7GFvG",
        "outputId": "4d67e21d-8e4b-4452-911c-6a0f34438cd3"
      },
      "execution_count": 6,
      "outputs": [
        {
          "output_type": "stream",
          "name": "stdout",
          "text": [
            "n = 50: rsd = 9.23%\n"
          ]
        }
      ]
    },
    {
      "cell_type": "code",
      "source": [
        "plt.figure(figsize = (3,3))\n",
        "plt.plot(X, Y_exact)\n",
        "plt.scatter(X, Y_num)\n",
        "plt.show()"
      ],
      "metadata": {
        "colab": {
          "base_uri": "https://localhost:8080/",
          "height": 291
        },
        "id": "IFDhofUsGHuG",
        "outputId": "39eb25ac-e1e7-4aad-926c-e137e6984d89"
      },
      "execution_count": 7,
      "outputs": [
        {
          "output_type": "display_data",
          "data": {
            "text/plain": [
              "<Figure size 300x300 with 1 Axes>"
            ],
            "image/png": "[encoded data removed]"
          },
          "metadata": {}
        }
      ]
    }
  ]
}