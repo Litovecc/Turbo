{
  "nbformat": 4,
  "nbformat_minor": 0,
  "metadata": {
    "colab": {
      "provenance": [],
      "toc_visible": true,
      "authorship_tag": "ABX9TyP1CXONzmrVkNucfxSTmv6n",
      "include_colab_link": true
    },
    "kernelspec": {
      "name": "python3",
      "display_name": "Python 3"
    },
    "language_info": {
      "name": "python"
    }
  },
  "cells": [
    {
      "cell_type": "markdown",
      "metadata": {
        "id": "view-in-github",
        "colab_type": "text"
      },
      "source": [
        "<a href=\"https://colab.research.google.com/github/Litovecc/Turbo/blob/main/08.ipynb\" target=\"_parent\"><img src=\"https://colab.research.google.com/assets/colab-badge.svg\" alt=\"Open In Colab\"/></a>"
      ]
    },
    {
      "cell_type": "markdown",
      "source": [
        "# Import"
      ],
      "metadata": {
        "id": "jXXajvsC_7HR"
      }
    },
    {
      "cell_type": "code",
      "source": [
        "import torch\n",
        "import torch.nn as nn\n",
        "import numpy as np\n",
        "from sklearn import datasets\n",
        "from sklearn.preprocessing import StandardScaler\n",
        "from sklearn.model_selection import train_test_split"
      ],
      "metadata": {
        "id": "Asj0ZwS_AExB"
      },
      "execution_count": 1,
      "outputs": []
    },
    {
      "cell_type": "markdown",
      "source": [
        "# 0) Prepare data"
      ],
      "metadata": {
        "id": "CXwCl5Vk_87J"
      }
    },
    {
      "cell_type": "code",
      "source": [
        "bc = datasets.load_breast_cancer()\n",
        "X, y = bc.data, bc.target\n",
        "\n",
        "n_samples, n_features = X.shape\n",
        "\n",
        "X_train, X_test, y_train, y_test = train_test_split(X, y, test_size=0.2, random_state=1234)"
      ],
      "metadata": {
        "id": "V7DpOS84AMfh"
      },
      "execution_count": 2,
      "outputs": []
    },
    {
      "cell_type": "markdown",
      "source": [
        "# Scale"
      ],
      "metadata": {
        "id": "OwAvTnh7AUgC"
      }
    },
    {
      "cell_type": "code",
      "source": [
        "sc = StandardScaler()\n",
        "X_train = sc.fit_transform(X_train)\n",
        "X_test = sc.transform(X_test)\n",
        "\n",
        "X_train = torch.from_numpy(X_train.astype(np.float32))\n",
        "X_test = torch.from_numpy(X_test.astype(np.float32))\n",
        "y_train = torch.from_numpy(y_train.astype(np.float32))\n",
        "y_test = torch.from_numpy(y_test.astype(np.float32))\n",
        "\n",
        "y_train = y_train.view(y_train.shape[0], 1)\n",
        "y_test = y_test.view(y_test.shape[0], 1)"
      ],
      "metadata": {
        "id": "WO1iVlDKAXpq"
      },
      "execution_count": 3,
      "outputs": []
    },
    {
      "cell_type": "markdown",
      "source": [
        "# 1)Model\n",
        "# f= wx + b, sigmoid at the end"
      ],
      "metadata": {
        "id": "Qw0-tWWtAZ45"
      }
    },
    {
      "cell_type": "code",
      "source": [
        "class LogisticRegression (nn.Module):\n",
        "  def __init__ (self, n_input_features):\n",
        "    super (LogisticRegression, self).__init__()\n",
        "    self.linear = nn.Linear (n_input_features, 1)\n",
        "\n",
        "  def forward (self, X):\n",
        "    y_predicted = torch.sigmoid (self.linear (X))\n",
        "    return y_predicted\n",
        "\n",
        "model = LogisticRegression (n_features)"
      ],
      "metadata": {
        "id": "TDeH49diAeNy"
      },
      "execution_count": 4,
      "outputs": []
    },
    {
      "cell_type": "markdown",
      "source": [
        "# 2)Loss and optimizer"
      ],
      "metadata": {
        "id": "My6ZmPdVAcAI"
      }
    },
    {
      "cell_type": "code",
      "source": [
        "learning_rate = 0.01\n",
        "criterion = nn.BCELoss()\n",
        "optimizer = torch.optim.SGD(model.parameters(), lr=learning_rate)"
      ],
      "metadata": {
        "id": "gYIaCzKJAw95"
      },
      "execution_count": 5,
      "outputs": []
    },
    {
      "cell_type": "markdown",
      "source": [
        "# 3)Training loop"
      ],
      "metadata": {
        "id": "mrUPXY9SA0XJ"
      }
    },
    {
      "cell_type": "code",
      "source": [
        "num_epochs = 100\n",
        "for epoch in range (num_epochs):\n",
        "  #forward pass and loss\n",
        "  y_predicted = model (X_train)\n",
        "  loss = criterion (y_predicted, y_train)\n",
        "\n",
        "  #backward pass\n",
        "  loss.backward ()\n",
        "\n",
        "  #updates\n",
        "  optimizer.step ()\n",
        "\n",
        "  #zero gradients\n",
        "  optimizer.zero_grad ()\n",
        "\n",
        "  if (epoch+1) % 10 == 0:\n",
        "    print (f'epoch: {epoch+1}, loss = {loss.item ():.4f}')\n",
        "\n",
        "    with torch.no_grad ():\n",
        "      y_predicted = model (X_test)\n",
        "      y_predicted_cls = y_predicted.round ()\n",
        "      acc = y_predicted_cls.eq (y_test).sum () / float (y_test.shape [0])\n",
        "print (f'accuracy = {acc:.4f}')\n"
      ],
      "metadata": {
        "colab": {
          "base_uri": "https://localhost:8080/"
        },
        "id": "wqVtiWfDA3oo",
        "outputId": "0da94e47-b9eb-4e0b-aabd-726e598927b2"
      },
      "execution_count": 6,
      "outputs": [
        {
          "output_type": "stream",
          "name": "stdout",
          "text": [
            "epoch: 10, loss = 0.5228\n",
            "epoch: 20, loss = 0.4401\n",
            "epoch: 30, loss = 0.3858\n",
            "epoch: 40, loss = 0.3474\n",
            "epoch: 50, loss = 0.3185\n",
            "epoch: 60, loss = 0.2960\n",
            "epoch: 70, loss = 0.2778\n",
            "epoch: 80, loss = 0.2627\n",
            "epoch: 90, loss = 0.2499\n",
            "epoch: 100, loss = 0.2390\n",
            "accuracy = 0.9035\n"
          ]
        }
      ]
    }
  ]
}